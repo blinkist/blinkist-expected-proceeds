{
 "cells": [
  {
   "cell_type": "code",
   "execution_count": null,
   "metadata": {},
   "outputs": [],
   "source": [
    "import pandas as pd\n",
    "\n",
    "from snowflake.snowpark.context import get_active_session\n",
    "session = get_active_session()"
   ]
  },
  {
   "cell_type": "code",
   "execution_count": null,
   "metadata": {},
   "outputs": [],
   "source": [
    "# Fetch data from Snowflake\n",
    "input_query = \"\"\"\n",
    "    SELECT \n",
    "        *\n",
    "    FROM blinkist_dev.dbt_mjaama.exp_proceeds_input\n",
    "    \"\"\"\n",
    "    \n",
    "input_df = session.sql(input_query).to_pandas()\n",
    "\n",
    "product_query = \"\"\"\n",
    "    SELECT \n",
    "        *\n",
    "    FROM blinkist_dev.dbt_mjaama.exp_proceeds_input\n",
    "    \"\"\"\n",
    "    \n",
    "product_df = session.sql(product_query).to_pandas()"
   ]
  },
  {
   "cell_type": "code",
   "execution_count": null,
   "metadata": {},
   "outputs": [],
   "source": []
  },
  {
   "cell_type": "code",
   "execution_count": null,
   "metadata": {},
   "outputs": [],
   "source": []
  }
 ],
 "metadata": {
  "language_info": {
   "name": "python"
  }
 },
 "nbformat": 4,
 "nbformat_minor": 2
}
